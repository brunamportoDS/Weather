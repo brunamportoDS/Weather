{
  "nbformat": 4,
  "nbformat_minor": 0,
  "metadata": {
    "colab": {
      "provenance": [],
      "toc_visible": true
    },
    "kernelspec": {
      "name": "python3",
      "display_name": "Python 3"
    },
    "language_info": {
      "name": "python"
    }
  },
  "cells": [
    {
      "cell_type": "markdown",
      "source": [
        "# Load and explore the data"
      ],
      "metadata": {
        "id": "CT4gTNQTh9n1"
      }
    },
    {
      "cell_type": "markdown",
      "source": [
        "## Import libraries"
      ],
      "metadata": {
        "id": "dwvtDMCYlPus"
      }
    },
    {
      "cell_type": "code",
      "execution_count": null,
      "metadata": {
        "id": "DQZAzYri_ru5"
      },
      "outputs": [],
      "source": [
        "# Import pandas, numpy, and matplotlib\n",
        "import pandas as pd\n",
        "import numpy as np\n",
        "import matplotlib.pyplot as plt\n",
        "\n",
        "# seaborn is a data visualization library built on matplotlib\n",
        "import seaborn as sns\n",
        "\n",
        "# set the plotting style\n",
        "sns.set_style(\"whitegrid\")"
      ]
    },
    {
      "cell_type": "markdown",
      "source": [
        "## Load the data"
      ],
      "metadata": {
        "id": "5qccuG8vy7Ja"
      }
    },
    {
      "cell_type": "markdown",
      "source": [
        "##### Load the Seattle data set"
      ],
      "metadata": {
        "id": "xYdcJWUhIc8U"
      }
    },
    {
      "cell_type": "markdown",
      "source": [
        "##### Load the St. Louis data set"
      ],
      "metadata": {
        "id": "YI_VqZ2-JI2_"
      }
    },
    {
      "cell_type": "markdown",
      "source": [
        "## Explore the contents of the data sets"
      ],
      "metadata": {
        "id": "OHVSgzXFd4nf"
      }
    },
    {
      "cell_type": "markdown",
      "source": [
        "##### Start by looking at the head of each data frame.\n",
        "\n",
        "This will let us see the names of the columns and a few example values for each column."
      ],
      "metadata": {
        "id": "gYxy4Sy6d9_j"
      }
    },
    {
      "cell_type": "markdown",
      "source": [
        "##### Examine more rows"
      ],
      "metadata": {
        "id": "El2gEjGnBtyy"
      }
    },
    {
      "cell_type": "markdown",
      "source": [
        "##### St. Louis data set"
      ],
      "metadata": {
        "id": "B_fXWBr_KhR2"
      }
    },
    {
      "cell_type": "markdown",
      "source": [
        "##### Are the columns are the same?"
      ],
      "metadata": {
        "id": "7zDNxnE9LRF4"
      }
    },
    {
      "cell_type": "markdown",
      "source": [
        "##### Use the `info` method to check the data types, size of the data frame, and numbers of missing values."
      ],
      "metadata": {
        "id": "e0IEtgl8eRkv"
      }
    },
    {
      "cell_type": "markdown",
      "source": [
        "##### St. Louis data set"
      ],
      "metadata": {
        "id": "n9ZuQl9HB-mA"
      }
    },
    {
      "cell_type": "markdown",
      "source": [
        "##### We can also compare data frame sizes using the shape attribute"
      ],
      "metadata": {
        "id": "RxbRRmQRMYZd"
      }
    },
    {
      "cell_type": "markdown",
      "source": [
        "## Why might the St. Louis data set be larger?"
      ],
      "metadata": {
        "id": "Oa64TsxsL9aF"
      }
    },
    {
      "cell_type": "markdown",
      "source": [
        "<pre>\n",
        "\n",
        "\n",
        "\n",
        "\n",
        "\n",
        "\n",
        "\n",
        "\n",
        "\n",
        "\n",
        "\n",
        "\n",
        "\n",
        "\n",
        "\n",
        "\n",
        "\n",
        "\n",
        "\n",
        "\n",
        "\n",
        "\n",
        "\n",
        "\n",
        "\n",
        "\n",
        "\n",
        "\n",
        "\n",
        "\n",
        "\n",
        "</pre>"
      ],
      "metadata": {
        "id": "qYE9-4tcL_z-"
      }
    },
    {
      "cell_type": "markdown",
      "source": [
        "#### Examine the `STATION` column"
      ],
      "metadata": {
        "id": "wLtJTlMLMthz"
      }
    },
    {
      "cell_type": "markdown",
      "source": [
        "##### How many unique stations are present?"
      ],
      "metadata": {
        "id": "T5cUb34RM4Ky"
      }
    },
    {
      "cell_type": "markdown",
      "source": [
        "#### Examine the `DATE` column"
      ],
      "metadata": {
        "id": "w0-RCjYSNSrt"
      }
    },
    {
      "cell_type": "markdown",
      "source": [
        "### Be careful to use correct data types"
      ],
      "metadata": {
        "id": "m2ifRKAEN0pX"
      }
    },
    {
      "cell_type": "markdown",
      "source": [
        "### Convert `DATE` to datetime"
      ],
      "metadata": {
        "id": "9xo4fNHiNoID"
      }
    },
    {
      "cell_type": "markdown",
      "source": [
        "### What range of dates are present?"
      ],
      "metadata": {
        "id": "ynybUlKfQNFq"
      }
    },
    {
      "cell_type": "markdown",
      "source": [
        "### Are the data suitable for answering the question?"
      ],
      "metadata": {
        "id": "UCVBxFyURV9L"
      }
    },
    {
      "cell_type": "markdown",
      "source": [
        "Plot the daily precipitation data for Seattle."
      ],
      "metadata": {
        "id": "nwO8wa426gF8"
      }
    },
    {
      "cell_type": "markdown",
      "source": [
        "##### Plot the daily precipitation data for St. Louis."
      ],
      "metadata": {
        "id": "09DgwEWbSLod"
      }
    },
    {
      "cell_type": "markdown",
      "source": [
        "## Tutorial: Selecting subsets of a DataFrame"
      ],
      "metadata": {
        "id": "tNt9nJ6u9Et8"
      }
    },
    {
      "cell_type": "code",
      "source": [
        "df_seattle.head()"
      ],
      "metadata": {
        "id": "Hu6SS5fd9H_h"
      },
      "execution_count": null,
      "outputs": []
    },
    {
      "cell_type": "markdown",
      "source": [
        "### Select one column"
      ],
      "metadata": {
        "id": "DpHQyUxj2-AT"
      }
    },
    {
      "cell_type": "markdown",
      "source": [
        "Select the column containing precipitation `PRCP`."
      ],
      "metadata": {
        "id": "lzCQvte_zCCR"
      }
    },
    {
      "cell_type": "markdown",
      "source": [
        "#### Use dictionary-style indexing"
      ],
      "metadata": {
        "id": "uy5nfFEV5vhq"
      }
    },
    {
      "cell_type": "markdown",
      "source": [
        "#### Use explicit array-style indexing with loc"
      ],
      "metadata": {
        "id": "BaVDnTNSye-b"
      }
    },
    {
      "cell_type": "markdown",
      "source": [
        "#### Use implicit array-style indexing with `.iloc`"
      ],
      "metadata": {
        "id": "FcZ0LVCq-EiA"
      }
    },
    {
      "cell_type": "markdown",
      "source": [
        "What number column, starting with 0, is `PRCP`?"
      ],
      "metadata": {
        "id": "h47_k_c1-G6F"
      }
    },
    {
      "cell_type": "code",
      "source": [
        "df_seattle.head()"
      ],
      "metadata": {
        "id": "xyAgMjtt-E_9"
      },
      "execution_count": null,
      "outputs": []
    },
    {
      "cell_type": "markdown",
      "source": [
        "##### Use implicit array-style indexing with `.iloc`"
      ],
      "metadata": {
        "id": "C-8eE8X-UWGG"
      }
    },
    {
      "cell_type": "markdown",
      "source": [
        "### Select multiple columns"
      ],
      "metadata": {
        "id": "bZ33GRss-aHB"
      }
    },
    {
      "cell_type": "markdown",
      "source": [
        "Select the columns containing `STATION`, `DATE`, and precipitation `PRCP`."
      ],
      "metadata": {
        "id": "AHcoqO2Z-f8I"
      }
    },
    {
      "cell_type": "markdown",
      "source": [
        "##### Use .loc"
      ],
      "metadata": {
        "id": "m666RYW2UgSd"
      }
    },
    {
      "cell_type": "markdown",
      "source": [
        "##### Use .iloc"
      ],
      "metadata": {
        "id": "D8bEkCX1UkFs"
      }
    },
    {
      "cell_type": "markdown",
      "source": [
        "#### Select a range of columns"
      ],
      "metadata": {
        "id": "gLcEXsWnXzrF"
      }
    },
    {
      "cell_type": "markdown",
      "source": [
        "Select all columns from `STATION` through `PRCP`"
      ],
      "metadata": {
        "id": "XD3EmZhN_AGu"
      }
    },
    {
      "cell_type": "markdown",
      "source": [
        "##### Use .iloc"
      ],
      "metadata": {
        "id": "LAR17TKQVF6z"
      }
    },
    {
      "cell_type": "markdown",
      "source": [
        "### Select the first $n$ rows"
      ],
      "metadata": {
        "id": "KHme4XUXdIBa"
      }
    },
    {
      "cell_type": "markdown",
      "source": [
        "Select the first 3 rows"
      ],
      "metadata": {
        "id": "U7T3l6Py_cuz"
      }
    },
    {
      "cell_type": "markdown",
      "source": [
        "Use the `.head()` method"
      ],
      "metadata": {
        "id": "YhskQB9oe-ce"
      }
    },
    {
      "cell_type": "markdown",
      "source": [
        "##### Use explicit indexing"
      ],
      "metadata": {
        "id": "a0btb4nKZQnS"
      }
    },
    {
      "cell_type": "markdown",
      "source": [
        "##### Use implicit indexing"
      ],
      "metadata": {
        "id": "Wcuf0QrhZR49"
      }
    },
    {
      "cell_type": "markdown",
      "source": [
        "### Select the last $n$ rows"
      ],
      "metadata": {
        "id": "KtVTDD7rpQrF"
      }
    },
    {
      "cell_type": "markdown",
      "source": [
        "Use the `.tail()` method"
      ],
      "metadata": {
        "id": "WJ0TD2nOpQrO"
      }
    },
    {
      "cell_type": "markdown",
      "source": [
        "##### Use explicit indexing"
      ],
      "metadata": {
        "id": "Ww_y64wFpQrR"
      }
    },
    {
      "cell_type": "markdown",
      "source": [
        "##### Use implicit indexing"
      ],
      "metadata": {
        "id": "yvpePT8-pQrQ"
      }
    },
    {
      "cell_type": "markdown",
      "source": [
        "### Select rows using logical indexing"
      ],
      "metadata": {
        "id": "vjQwc6U2eudp"
      }
    },
    {
      "cell_type": "markdown",
      "source": [
        "Select the rows where `PRCP` is greater than 0."
      ],
      "metadata": {
        "id": "6gW-YJnnyQiT"
      }
    },
    {
      "cell_type": "markdown",
      "source": [
        "##### Select the rows where the precipitation is between 0.5 and 0.75 inches."
      ],
      "metadata": {
        "id": "8KtJZKYyp8CH"
      }
    },
    {
      "cell_type": "markdown",
      "source": [
        "## Select relevant subsets of the data"
      ],
      "metadata": {
        "id": "krX-By1ZBa4R"
      }
    },
    {
      "cell_type": "markdown",
      "source": [
        "We saw that the St. Louis data set contains data prior to 2018."
      ],
      "metadata": {
        "id": "7VVOuonocRqK"
      }
    },
    {
      "cell_type": "code",
      "source": [
        "df_stlouis.head()"
      ],
      "metadata": {
        "id": "MImmswQEqDQL"
      },
      "execution_count": null,
      "outputs": []
    },
    {
      "cell_type": "markdown",
      "source": [
        "##### Limit the St. Louis data to 2018 and beyond."
      ],
      "metadata": {
        "id": "XcKpBqUpqaYA"
      }
    },
    {
      "cell_type": "markdown",
      "source": [
        "##### The St. Louis data set has values for many weather stations, while the Seattle data set has only one weather station.\n",
        "\n",
        "We will focus on the data from the airport in St. Louis."
      ],
      "metadata": {
        "id": "5zExx7BE1ANz"
      }
    },
    {
      "cell_type": "markdown",
      "source": [
        "## Join data frames keeping `DATE` and `PRCP` columns"
      ],
      "metadata": {
        "id": "BkCnFJdVryvv"
      }
    },
    {
      "cell_type": "code",
      "source": [
        "df_seattle.head(2)"
      ],
      "metadata": {
        "id": "5LOkkNFcX8kb"
      },
      "execution_count": null,
      "outputs": []
    },
    {
      "cell_type": "code",
      "source": [
        "df_stlouis.head(2)"
      ],
      "metadata": {
        "id": "QMqVks4fX58g"
      },
      "execution_count": null,
      "outputs": []
    },
    {
      "cell_type": "markdown",
      "source": [
        "**What type of join should we do?**"
      ],
      "metadata": {
        "id": "xdy2dKjrv0-d"
      }
    },
    {
      "cell_type": "markdown",
      "source": [
        "##### Use a join to keep all dates present"
      ],
      "metadata": {
        "id": "zPNbKGC1JDkp"
      }
    },
    {
      "cell_type": "markdown",
      "source": [
        "Each DataFrame had a column named `PRCP`, so the default is to add suffixes _x and _y to differentiate the columns. Normally, I would rename the columns at this point to something more informative. However, I know that I want to convert the DataFrame to a tidy format and I will modify the names later."
      ],
      "metadata": {
        "id": "7HTfg4ZpsN1P"
      }
    },
    {
      "cell_type": "markdown",
      "source": [
        "### Create a tidy data frame with columns for city and precipitation"
      ],
      "metadata": {
        "id": "TklEWrlhsEiQ"
      }
    },
    {
      "cell_type": "code",
      "source": [
        "df"
      ],
      "metadata": {
        "id": "PDutvglumIOg"
      },
      "execution_count": null,
      "outputs": []
    },
    {
      "cell_type": "markdown",
      "source": [
        "How did this change the DataFrame?"
      ],
      "metadata": {
        "id": "5PNjVV4QgOuz"
      }
    },
    {
      "cell_type": "code",
      "source": [
        "df.head()"
      ],
      "metadata": {
        "id": "AFStfLoNmf-I"
      },
      "execution_count": null,
      "outputs": []
    },
    {
      "cell_type": "markdown",
      "source": [
        "### Rename columns or values to follow best practices"
      ],
      "metadata": {
        "id": "bnngJvdDiCbS"
      }
    },
    {
      "cell_type": "markdown",
      "source": [
        "Rename the city values 'STL' and 'SEA'"
      ],
      "metadata": {
        "id": "Au8SCopULgXT"
      }
    },
    {
      "cell_type": "markdown",
      "source": [
        "##### Rename the columns to be lowercase using `df.rename()`"
      ],
      "metadata": {
        "id": "KzbDZf1d4BpT"
      }
    },
    {
      "cell_type": "markdown",
      "source": [
        "## Identify and fill in missing values"
      ],
      "metadata": {
        "id": "aAaUY6N1rtoa"
      }
    },
    {
      "cell_type": "markdown",
      "source": [
        "Data can be missing in multiple manners:\n",
        "1. Values are `NaN` in the data frame"
      ],
      "metadata": {
        "id": "AtkhvgvlCBdw"
      }
    },
    {
      "cell_type": "markdown",
      "source": [
        "2.  Values are not included in the data set."
      ],
      "metadata": {
        "id": "yqbdb5CvCRFM"
      }
    },
    {
      "cell_type": "markdown",
      "source": [
        "### Count the non-null or null values"
      ],
      "metadata": {
        "id": "fvrV7uD0mzG6"
      }
    },
    {
      "cell_type": "markdown",
      "metadata": {
        "id": "Q1rA_SSUPyUT"
      },
      "source": [
        "Determine the number of non-null values in each column."
      ]
    },
    {
      "cell_type": "markdown",
      "source": [
        "##### Determine the number of null values in each column."
      ],
      "metadata": {
        "id": "9rgs-UvovTga"
      }
    },
    {
      "cell_type": "markdown",
      "source": [
        "##### Determine the number of null precipitation values for Seattle and St. Louis."
      ],
      "metadata": {
        "id": "ceiU_nolviBn"
      }
    },
    {
      "cell_type": "markdown",
      "source": [
        "##### The St. Louis data set does not have any `NaN` values of `precipitation`. Are any dates omitted?\n",
        "\n",
        "**How many data points should we have from 2018 to 2022?**"
      ],
      "metadata": {
        "id": "AKd8Izs4CvfC"
      }
    },
    {
      "cell_type": "markdown",
      "source": [
        "### Impute missing values"
      ],
      "metadata": {
        "id": "7W_iTvjbXx8_"
      }
    },
    {
      "cell_type": "markdown",
      "source": [
        "We will replace missing values with the mean across years of values on that day.\n",
        "\n",
        "\n",
        "**Design an algorithm for replacing missing values with the mean across years of values on that day.**"
      ],
      "metadata": {
        "id": "3OTbPI91dMOB"
      }
    },
    {
      "cell_type": "markdown",
      "source": [
        "## Export the clean .csv file"
      ],
      "metadata": {
        "id": "oKGHtonZsZCM"
      }
    },
    {
      "cell_type": "code",
      "source": [
        "df.to_csv('clean_seattle_stlouis_weather.csv', encoding='utf-8-sig', index=False)"
      ],
      "metadata": {
        "id": "EqBz9TkxKp5-"
      },
      "execution_count": null,
      "outputs": []
    }
  ]
}